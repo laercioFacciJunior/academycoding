{
  "nbformat": 4,
  "nbformat_minor": 0,
  "metadata": {
    "colab": {
      "name": "TCH",
      "provenance": [],
      "collapsed_sections": []
    },
    "kernelspec": {
      "name": "python3",
      "display_name": "Python 3"
    },
    "accelerator": "GPU"
  },
  "cells": [
    {
      "cell_type": "code",
      "metadata": {
        "id": "ydnb6pBntPC5"
      },
      "source": [
        "import matplotlib.pyplot as plt\n",
        "import pandas as pd\n",
        "import tensorflow as tf\n",
        "\n",
        "from tensorflow import keras\n",
        "from tensorflow.keras import layers\n",
        "\n",
        "df =pd.read_csv(\"/content/dados.csv\")\n"
      ],
      "execution_count": 61,
      "outputs": []
    },
    {
      "cell_type": "code",
      "metadata": {
        "id": "yB54YT5qXIHX",
        "outputId": "953e48f6-587f-4e81-a374-ae849eb6479e",
        "colab": {
          "base_uri": "https://localhost:8080/"
        }
      },
      "source": [
        "df.info()\n"
      ],
      "execution_count": 62,
      "outputs": [
        {
          "output_type": "stream",
          "text": [
            "<class 'pandas.core.frame.DataFrame'>\n",
            "RangeIndex: 150941 entries, 0 to 150940\n",
            "Data columns (total 17 columns):\n",
            " #   Column                  Non-Null Count   Dtype  \n",
            "---  ------                  --------------   -----  \n",
            " 0   NomeVariedade           150941 non-null  object \n",
            " 1   SiglaAmbienteProducao   150940 non-null  object \n",
            " 2   AnoSafra                150941 non-null  int64  \n",
            " 3   NomeTpColheita          150941 non-null  object \n",
            " 4   EpocaCorte              150935 non-null  float64\n",
            " 5   EpocaInicioCrescimento  143773 non-null  float64\n",
            " 6   CanaDeAnoMeio           150101 non-null  float64\n",
            " 7   CanaIrrigada            149566 non-null  float64\n",
            " 8   Corte                   150936 non-null  float64\n",
            " 9   Bizada                  150941 non-null  int64  \n",
            " 10  Queimada                150790 non-null  float64\n",
            " 11  AplicVinhaca            150941 non-null  int64  \n",
            " 12  AplicTortaFiltro        150941 non-null  int64  \n",
            " 13  LiberacaoCotesia        150941 non-null  int64  \n",
            " 14  AplicAdubacao           150941 non-null  int64  \n",
            " 15  Meiosi                  149566 non-null  float64\n",
            " 16  TCH                     150941 non-null  float64\n",
            "dtypes: float64(8), int64(6), object(3)\n",
            "memory usage: 19.6+ MB\n"
          ],
          "name": "stdout"
        }
      ]
    },
    {
      "cell_type": "code",
      "metadata": {
        "id": "TPMr_UiyNf8J"
      },
      "source": [
        "df=df.dropna() #removendo linhas nulas "
      ],
      "execution_count": 63,
      "outputs": []
    },
    {
      "cell_type": "code",
      "metadata": {
        "id": "2mluJdegOHRP",
        "outputId": "91783146-2729-4234-9729-2b70d761bf02",
        "colab": {
          "base_uri": "https://localhost:8080/"
        }
      },
      "source": [
        "df.isna().sum() #vericaocao de linhas nulas"
      ],
      "execution_count": 64,
      "outputs": [
        {
          "output_type": "execute_result",
          "data": {
            "text/plain": [
              "NomeVariedade             0\n",
              "SiglaAmbienteProducao     0\n",
              "AnoSafra                  0\n",
              "NomeTpColheita            0\n",
              "EpocaCorte                0\n",
              "EpocaInicioCrescimento    0\n",
              "CanaDeAnoMeio             0\n",
              "CanaIrrigada              0\n",
              "Corte                     0\n",
              "Bizada                    0\n",
              "Queimada                  0\n",
              "AplicVinhaca              0\n",
              "AplicTortaFiltro          0\n",
              "LiberacaoCotesia          0\n",
              "AplicAdubacao             0\n",
              "Meiosi                    0\n",
              "TCH                       0\n",
              "dtype: int64"
            ]
          },
          "metadata": {
            "tags": []
          },
          "execution_count": 64
        }
      ]
    },
    {
      "cell_type": "code",
      "metadata": {
        "id": "qhiuigEVPlsF",
        "outputId": "d1bb442c-2d02-414f-94c5-e06a4f3d28ae",
        "colab": {
          "base_uri": "https://localhost:8080/"
        }
      },
      "source": [
        "#convertendo as coluna de dados categoriricos\n",
        "#removendo a coluna TCH\n",
        "categorical_columns = df.columns.to_list()\n",
        "categorical_columns.remove(\"TCH\")\n",
        "df = pd.get_dummies(df, columns=categorical_columns)\n",
        "print(df.shape)"
      ],
      "execution_count": 65,
      "outputs": [
        {
          "output_type": "stream",
          "text": [
            "(142570, 275)\n"
          ],
          "name": "stdout"
        }
      ]
    },
    {
      "cell_type": "code",
      "metadata": {
        "id": "EmKh5DF4A3f6"
      },
      "source": [
        "#Separando dados de treinamento e teste\n",
        "train_dataset = df.sample(frac=0.8,random_state=0)#80% trinamento\n",
        "test_dataset = df.drop(train_dataset.index)#20% teste"
      ],
      "execution_count": 66,
      "outputs": []
    },
    {
      "cell_type": "code",
      "metadata": {
        "id": "xrwuXMbMAn2e"
      },
      "source": [
        "#Separe o valor alvo(labels), das features. \n",
        "#Esta label é o valor no qual o modelo é treinado para prever.\n",
        "train_labels = train_dataset.pop('TCH')\n",
        "test_labels = test_dataset.pop('TCH')\n"
      ],
      "execution_count": 67,
      "outputs": []
    },
    {
      "cell_type": "code",
      "metadata": {
        "id": "NGbCUQFuDFjU"
      },
      "source": [
        "train_stats=train_labels.describe()"
      ],
      "execution_count": 68,
      "outputs": []
    },
    {
      "cell_type": "code",
      "metadata": {
        "id": "1Au5ap9uCuY5"
      },
      "source": [
        "#Normalize os dadosé o que nós usaremos para treinar o modelo.\n",
        "#(subtrai a media do valor e divide pelo desvio padrao)\n",
        "def norm(x):\n",
        "  return (x - train_stats['mean']) / train_stats['std']\n",
        "normed_train_data = norm(train_labels)\n",
        "normed_test_data = norm(test_labels)"
      ],
      "execution_count": 69,
      "outputs": []
    },
    {
      "cell_type": "code",
      "metadata": {
        "id": "CIQGBL1qDy1T"
      },
      "source": [
        "#construindo o modelo.  usaremos o modelo Sequential com duas camadas densely connected\n",
        "# e a camada de saída que retorna um único valor contínuo. Os passos de construção \n",
        "# do modelo são agrupados em uma função, build_model\n",
        "def build_model():\n",
        "  model = keras.Sequential([\n",
        "    layers.Dense(64, activation='relu', input_shape=[len(train_dataset.keys())]),\n",
        "    layers.Dense(64, activation='relu'),\n",
        "    layers.Dense(1)\n",
        "  ])\n",
        "\n",
        "  optimizer = tf.keras.optimizers.Adam(learning_rate=0.01)\n",
        "\n",
        "  model.compile(loss='mse',\n",
        "                optimizer=optimizer,\n",
        "                metrics=['mae', 'mse'])\n",
        "  return model"
      ],
      "execution_count": 70,
      "outputs": []
    },
    {
      "cell_type": "code",
      "metadata": {
        "id": "RtXCclaubrSI"
      },
      "source": [
        "# inicializacao do modelo\n",
        "model = build_model()"
      ],
      "execution_count": 71,
      "outputs": []
    },
    {
      "cell_type": "code",
      "metadata": {
        "id": "y7_6usTCHNd8",
        "outputId": "40d5b5e7-c2d3-47bd-fe89-561656a143d2",
        "colab": {
          "base_uri": "https://localhost:8080/"
        }
      },
      "source": [
        "#checando a arquitetura do modelo\n",
        "model.summary()"
      ],
      "execution_count": 72,
      "outputs": [
        {
          "output_type": "stream",
          "text": [
            "Model: \"sequential_3\"\n",
            "_________________________________________________________________\n",
            "Layer (type)                 Output Shape              Param #   \n",
            "=================================================================\n",
            "dense_9 (Dense)              (None, 64)                17600     \n",
            "_________________________________________________________________\n",
            "dense_10 (Dense)             (None, 64)                4160      \n",
            "_________________________________________________________________\n",
            "dense_11 (Dense)             (None, 1)                 65        \n",
            "=================================================================\n",
            "Total params: 21,825\n",
            "Trainable params: 21,825\n",
            "Non-trainable params: 0\n",
            "_________________________________________________________________\n"
          ],
          "name": "stdout"
        }
      ]
    },
    {
      "cell_type": "code",
      "metadata": {
        "id": "hSsERjX_HX0B",
        "outputId": "46c6877f-8fcf-40ce-fde8-4980868ada71",
        "colab": {
          "base_uri": "https://localhost:8080/"
        }
      },
      "source": [
        "# Mostra o progresso do treinamento imprimindo um único ponto para cada epoch completada\n",
        "class PrintarPonto(keras.callbacks.Callback):\n",
        "  def on_epoch_end(self, epoch, logs):\n",
        "    if epoch % 100 == 0: print('')\n",
        "    print('.', end='')\n",
        "\n",
        "EPOCHS = 1000\n",
        "\n",
        "# O paramêtro patience é o quantidade de epochs para checar as melhoras\n",
        "early_stop = keras.callbacks.EarlyStopping(monitor='val_loss', patience=10)\n",
        "\n",
        "# realiza o treinamento\n",
        "history = model.fit(\n",
        "  train_dataset, normed_train_data,\n",
        "  epochs=EPOCHS, validation_split = 0.2, verbose=0,\n",
        "  callbacks=[early_stop,PrintarPonto()])"
      ],
      "execution_count": 73,
      "outputs": [
        {
          "output_type": "stream",
          "text": [
            "\n",
            "............................"
          ],
          "name": "stdout"
        }
      ]
    },
    {
      "cell_type": "code",
      "metadata": {
        "id": "08k9q7-DJQ_u",
        "outputId": "ae3e4144-819c-4077-f12b-31155769077d",
        "colab": {
          "base_uri": "https://localhost:8080/",
          "height": 204
        }
      },
      "source": [
        "#verifica o historico do treinamento\n",
        "hist = pd.DataFrame(history.history)\n",
        "hist['epoch'] = history.epoch\n",
        "hist.tail()"
      ],
      "execution_count": 74,
      "outputs": [
        {
          "output_type": "execute_result",
          "data": {
            "text/html": [
              "<div>\n",
              "<style scoped>\n",
              "    .dataframe tbody tr th:only-of-type {\n",
              "        vertical-align: middle;\n",
              "    }\n",
              "\n",
              "    .dataframe tbody tr th {\n",
              "        vertical-align: top;\n",
              "    }\n",
              "\n",
              "    .dataframe thead th {\n",
              "        text-align: right;\n",
              "    }\n",
              "</style>\n",
              "<table border=\"1\" class=\"dataframe\">\n",
              "  <thead>\n",
              "    <tr style=\"text-align: right;\">\n",
              "      <th></th>\n",
              "      <th>loss</th>\n",
              "      <th>mae</th>\n",
              "      <th>mse</th>\n",
              "      <th>val_loss</th>\n",
              "      <th>val_mae</th>\n",
              "      <th>val_mse</th>\n",
              "      <th>epoch</th>\n",
              "    </tr>\n",
              "  </thead>\n",
              "  <tbody>\n",
              "    <tr>\n",
              "      <th>23</th>\n",
              "      <td>0.492184</td>\n",
              "      <td>0.485236</td>\n",
              "      <td>0.492184</td>\n",
              "      <td>0.539057</td>\n",
              "      <td>0.504271</td>\n",
              "      <td>0.539057</td>\n",
              "      <td>23</td>\n",
              "    </tr>\n",
              "    <tr>\n",
              "      <th>24</th>\n",
              "      <td>0.491070</td>\n",
              "      <td>0.484258</td>\n",
              "      <td>0.491070</td>\n",
              "      <td>0.545732</td>\n",
              "      <td>0.515041</td>\n",
              "      <td>0.545732</td>\n",
              "      <td>24</td>\n",
              "    </tr>\n",
              "    <tr>\n",
              "      <th>25</th>\n",
              "      <td>0.490844</td>\n",
              "      <td>0.484738</td>\n",
              "      <td>0.490844</td>\n",
              "      <td>0.540239</td>\n",
              "      <td>0.504383</td>\n",
              "      <td>0.540239</td>\n",
              "      <td>25</td>\n",
              "    </tr>\n",
              "    <tr>\n",
              "      <th>26</th>\n",
              "      <td>0.489941</td>\n",
              "      <td>0.483327</td>\n",
              "      <td>0.489941</td>\n",
              "      <td>0.529684</td>\n",
              "      <td>0.498727</td>\n",
              "      <td>0.529684</td>\n",
              "      <td>26</td>\n",
              "    </tr>\n",
              "    <tr>\n",
              "      <th>27</th>\n",
              "      <td>0.490628</td>\n",
              "      <td>0.484661</td>\n",
              "      <td>0.490628</td>\n",
              "      <td>0.530805</td>\n",
              "      <td>0.498657</td>\n",
              "      <td>0.530805</td>\n",
              "      <td>27</td>\n",
              "    </tr>\n",
              "  </tbody>\n",
              "</table>\n",
              "</div>"
            ],
            "text/plain": [
              "        loss       mae       mse  val_loss   val_mae   val_mse  epoch\n",
              "23  0.492184  0.485236  0.492184  0.539057  0.504271  0.539057     23\n",
              "24  0.491070  0.484258  0.491070  0.545732  0.515041  0.545732     24\n",
              "25  0.490844  0.484738  0.490844  0.540239  0.504383  0.540239     25\n",
              "26  0.489941  0.483327  0.489941  0.529684  0.498727  0.529684     26\n",
              "27  0.490628  0.484661  0.490628  0.530805  0.498657  0.530805     27"
            ]
          },
          "metadata": {
            "tags": []
          },
          "execution_count": 74
        }
      ]
    },
    {
      "cell_type": "code",
      "metadata": {
        "id": "OsqWCX7N_hyE",
        "outputId": "20f1fa6d-ea91-4d61-8e24-89b1537b7810",
        "colab": {
          "base_uri": "https://localhost:8080/",
          "height": 541
        }
      },
      "source": [
        "#plota as metrica de treinamentos\n",
        "def plot_history(history):\n",
        "  hist = pd.DataFrame(history.history)\n",
        "  hist['epoch'] = history.epoch\n",
        "\n",
        "  plt.figure()\n",
        "  plt.xlabel('epoca')\n",
        "  plt.ylabel('erro absoluto [TCH]')\n",
        "  plt.plot(hist['epoch'], hist['mae'],\n",
        "           label='erro de treinamento')\n",
        "  plt.plot(hist['epoch'], hist['val_mae'],\n",
        "           label = 'erro de validacao')\n",
        "  \n",
        "  plt.legend()\n",
        "\n",
        "  plt.figure()\n",
        "  plt.xlabel('Epoca')\n",
        "  plt.ylabel('erro quadratico [TCH]')\n",
        "  plt.plot(hist['epoch'], hist['mse'],\n",
        "           label='erro de treinamento')\n",
        "  plt.plot(hist['epoch'], hist['val_mse'],\n",
        "           label = 'erro de validacao')\n",
        "  \n",
        "  plt.legend()\n",
        "  plt.show()\n",
        "\n",
        "\n",
        "plot_history(history)"
      ],
      "execution_count": 75,
      "outputs": [
        {
          "output_type": "display_data",
          "data": {
            "image/png": "[encoded data removed]",
            "text/plain": [
              "<Figure size 432x288 with 1 Axes>"
            ]
          },
          "metadata": {
            "tags": [],
            "needs_background": "light"
          }
        },
        {
          "output_type": "display_data",
          "data": {
            "image/png": "[encoded data removed]",
            "text/plain": [
              "<Figure size 432x288 with 1 Axes>"
            ]
          },
          "metadata": {
            "tags": [],
            "needs_background": "light"
          }
        }
      ]
    },
    {
      "cell_type": "code",
      "metadata": {
        "id": "e_6GzRQx6oqZ",
        "outputId": "d32f8591-a8ab-451b-e027-62e5aa5f1a4f",
        "colab": {
          "base_uri": "https://localhost:8080/",
          "height": 282
        }
      },
      "source": [
        "#faca predicoes prevejamos os valores TCH usando o conjunto de teste.\n",
        "test_predictions = model.predict(test_dataset).flatten()\n",
        "\n",
        "plt.scatter(normed_test_data, test_predictions)\n",
        "plt.xlabel('valoresreais [TCH]')\n",
        "plt.ylabel('predicoes[TCH]')\n",
        "plt.axis('equal')\n",
        "plt.axis('square')\n",
        "plt.xlim([0,plt.xlim()[1]])\n",
        "plt.ylim([0,plt.ylim()[1]])\n",
        "_ = plt.plot([-100, 100], [-100, 100])\n"
      ],
      "execution_count": 76,
      "outputs": [
        {
          "output_type": "display_data",
          "data": {
            "image/png": "[encoded data removed]",
            "text/plain": [
              "<Figure size 432x288 with 1 Axes>"
            ]
          },
          "metadata": {
            "tags": [],
            "needs_background": "light"
          }
        }
      ]
    },
    {
      "cell_type": "code",
      "metadata": {
        "id": "2Lq8BOkazQ6-"
      },
      "source": [
        "# funcao de desnormalizacao dos dados \n",
        "#(multiplica o valor pelo o desvio padrao e soma a media )\n",
        "def desnorm(x):\n",
        "  return train_stats['mean']+ (x*train_stats['std'])\n",
        "desnorme=desnorm(test_predictions)"
      ],
      "execution_count": 77,
      "outputs": []
    },
    {
      "cell_type": "code",
      "metadata": {
        "id": "-2slo9100TjP",
        "outputId": "2c3f6063-d2c0-4694-cffc-6ab1b7d85429",
        "colab": {
          "base_uri": "https://localhost:8080/",
          "height": 279
        }
      },
      "source": [
        "#histograma de erro do modelo\n",
        "error = desnorme - test_labels\n",
        "plt.hist(error, bins = 200)\n",
        "plt.xlabel(\"erro de predicao [TCH]\")\n",
        "_ = plt.ylabel(\"ocorrencia\")"
      ],
      "execution_count": 78,
      "outputs": [
        {
          "output_type": "display_data",
          "data": {
            "image/png": "[encoded data removed]",
            "text/plain": [
              "<Figure size 432x288 with 1 Axes>"
            ]
          },
          "metadata": {
            "tags": [],
            "needs_background": "light"
          }
        }
      ]
    }
  ]
}